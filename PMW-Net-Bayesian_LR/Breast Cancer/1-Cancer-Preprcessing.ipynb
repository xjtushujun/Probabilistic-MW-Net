{
 "cells": [
  {
   "cell_type": "markdown",
   "metadata": {},
   "source": [
    "# 0% Noise"
   ]
  },
  {
   "cell_type": "code",
   "execution_count": null,
   "metadata": {
    "ExecuteTime": {
     "end_time": "2020-10-02T23:46:37.139975Z",
     "start_time": "2020-10-02T23:46:37.096789Z"
    },
    "scrolled": false
   },
   "outputs": [],
   "source": [
    "import numpy as np\n",
    "import math\n",
    "import random\n",
    "import torch\n",
    "from sklearn.utils import shuffle\n",
    "import pandas as pd\n",
    "from scipy.io import loadmat, savemat\n",
    "import os\n",
    "from sklearn import preprocessing\n",
    "\n",
    "\n",
    "for k in range(5):\n",
    "    \n",
    "    \n",
    "    data = pd.read_csv(\"./breast-cancer-wisconsin.data\", header = None).values.astype(np.float)\n",
    "    data = shuffle(data)# , random_state = 0\n",
    "    data[:, :-1] = preprocessing.scale(data[:, :-1])\n",
    "    data[:, -1][data[:, -1] == 2] = 1\n",
    "    data[:, -1][data[:, -1] == 4] = 0\n",
    "    \n",
    "    end_train = int(data.shape[0] * 0.4)\n",
    "    end_meta = int(data.shape[0] * 0.5)\n",
    "    end_test = data.shape[0]\n",
    "    \n",
    "    n = data.shape[0]\n",
    "    data_train = data[0 : end_train]\n",
    "    data_meta = data[end_train: end_meta]\n",
    "    data_test = data[end_meta : n]\n",
    "    print(data_train.shape, data_meta.shape, data_test.shape)\n",
    "    assert data_train.shape == (end_train, 11)\n",
    "    assert data_meta.shape == (end_meta - end_train, 11)\n",
    "    assert data_test.shape == (end_test - end_meta, 11)\n",
    "\n",
    "    X_train = data_train[:, :-1]\n",
    "    assert X_train.shape == (end_train, 10)\n",
    "    y_train = data_train[:, -1]\n",
    "\n",
    "    n_corrupted = int(X_train.shape[0] * 0)\n",
    "    y_train[:n_corrupted] = - (y_train[:n_corrupted] - 1)\n",
    "\n",
    "    X_meta = data_meta[:, :-1]\n",
    "    assert X_meta.shape == (end_meta - end_train, 10)\n",
    "    y_meta = data_meta[:, -1]\n",
    "    X_meta = torch.tensor(X_meta, dtype = torch.float32)\n",
    "    y_meta = torch.tensor(y_meta, dtype = torch.float32)\n",
    "    \n",
    "    ind_meta_pos = y_meta == 1\n",
    "    ind_meta_neg = y_meta == 0\n",
    "    y_tp_pos = y_meta[ind_meta_pos]\n",
    "    y_tp_neg = y_meta[ind_meta_neg]\n",
    "    X_tp_pos = X_meta[ind_meta_pos, :]\n",
    "    X_tp_neg = X_meta[ind_meta_neg, :]\n",
    "    t = int(min(y_tp_pos.shape[0], y_tp_neg.shape[0]))\n",
    "    X_meta = torch.cat((X_tp_pos[:t, :], X_tp_neg[:t, :]), dim=0)\n",
    "    y_meta = torch.cat((y_tp_pos[:t], y_tp_neg[:t]))\n",
    "    assert X_meta.shape == (2 * t, X_train.shape[1])\n",
    "\n",
    "    X_test = data_test[:, :-1]\n",
    "    assert X_test.shape == (end_test - end_meta, 10)\n",
    "    y_test = data_test[:, -1]\n",
    "\n",
    "    print('Data {} shuffle completed!'.format(k+1))\n",
    "\n",
    "    save_name = 'cancer_{}.mat'.format(k+1)\n",
    "\n",
    "    data_dict = {'X_train': np.array(X_train), 'y_train': np.array(y_train), 'X_meta': np.array(X_meta), \n",
    "             'y_meta': np.array(y_meta), 'X_test': np.array(X_test), 'y_test': np.array(y_test)}\n",
    "    savemat(save_name, data_dict)\n",
    "    print('Data saved~')"
   ]
  },
  {
   "cell_type": "code",
   "execution_count": null,
   "metadata": {
    "ExecuteTime": {
     "end_time": "2020-10-01T12:54:38.152709Z",
     "start_time": "2020-10-01T12:54:38.143757Z"
    }
   },
   "outputs": [],
   "source": [
    "data"
   ]
  },
  {
   "cell_type": "markdown",
   "metadata": {},
   "source": [
    "# 10% Noise"
   ]
  },
  {
   "cell_type": "code",
   "execution_count": null,
   "metadata": {
    "ExecuteTime": {
     "end_time": "2020-10-02T23:46:41.130522Z",
     "start_time": "2020-10-02T23:46:41.088402Z"
    }
   },
   "outputs": [],
   "source": [
    "import numpy as np\n",
    "import math\n",
    "import random\n",
    "import torch\n",
    "from sklearn.utils import shuffle\n",
    "import pandas as pd\n",
    "from scipy.io import loadmat, savemat\n",
    "import os\n",
    "from sklearn import preprocessing\n",
    "\n",
    "\n",
    "for k in range(5):\n",
    "    \n",
    "    \n",
    "    data = pd.read_csv(\"./breast-cancer-wisconsin.data\", header = None).values.astype(np.float)\n",
    "    data = shuffle(data)# , random_state = 0\n",
    "    data[:, :-1] = preprocessing.scale(data[:, :-1])\n",
    "    data[:, -1][data[:, -1] == 2] = 1\n",
    "    data[:, -1][data[:, -1] == 4] = 0\n",
    "    \n",
    "    end_train = int(data.shape[0] * 0.4)\n",
    "    end_meta = int(data.shape[0] * 0.5)\n",
    "    end_test = data.shape[0]\n",
    "    \n",
    "    n = data.shape[0]\n",
    "    data_train = data[0 : end_train]\n",
    "    data_meta = data[end_train: end_meta]\n",
    "    data_test = data[end_meta : n]\n",
    "    print(data_train.shape, data_meta.shape, data_test.shape)\n",
    "    assert data_train.shape == (end_train, 11)\n",
    "    assert data_meta.shape == (end_meta - end_train, 11)\n",
    "    assert data_test.shape == (end_test - end_meta, 11)\n",
    "\n",
    "    X_train = data_train[:, :-1]\n",
    "    assert X_train.shape == (end_train, 10)\n",
    "    y_train = data_train[:, -1]\n",
    "\n",
    "    n_corrupted = int(X_train.shape[0] * 0.1)\n",
    "    y_train[:n_corrupted] = - (y_train[:n_corrupted] - 1)\n",
    "\n",
    "    X_meta = data_meta[:, :-1]\n",
    "    assert X_meta.shape == (end_meta - end_train, 10)\n",
    "    y_meta = data_meta[:, -1]\n",
    "    X_meta = torch.tensor(X_meta, dtype = torch.float32)\n",
    "    y_meta = torch.tensor(y_meta, dtype = torch.float32)\n",
    "    \n",
    "    ind_meta_pos = y_meta == 1\n",
    "    ind_meta_neg = y_meta == 0\n",
    "    y_tp_pos = y_meta[ind_meta_pos]\n",
    "    y_tp_neg = y_meta[ind_meta_neg]\n",
    "    X_tp_pos = X_meta[ind_meta_pos, :]\n",
    "    X_tp_neg = X_meta[ind_meta_neg, :]\n",
    "    t = int(min(y_tp_pos.shape[0], y_tp_neg.shape[0]))\n",
    "    X_meta = torch.cat((X_tp_pos[:t, :], X_tp_neg[:t, :]), dim=0)\n",
    "    y_meta = torch.cat((y_tp_pos[:t], y_tp_neg[:t]))\n",
    "    assert X_meta.shape == (2 * t, X_train.shape[1])\n",
    "    \n",
    "    X_test = data_test[:, :-1]\n",
    "    assert X_test.shape == (end_test - end_meta, 10)\n",
    "    y_test = data_test[:, -1]\n",
    "\n",
    "    print('Data {} shuffle completed!'.format(k+1))\n",
    "\n",
    "    save_name = 'cancer_10%_{}.mat'.format(k+1)\n",
    "\n",
    "    data_dict = {'X_train': np.array(X_train), 'y_train': np.array(y_train), 'X_meta': np.array(X_meta), \n",
    "             'y_meta': np.array(y_meta), 'X_test': np.array(X_test), 'y_test': np.array(y_test)}\n",
    "    savemat(save_name, data_dict)\n",
    "    print('Data saved~')"
   ]
  },
  {
   "cell_type": "markdown",
   "metadata": {},
   "source": [
    "# 20% Noise"
   ]
  },
  {
   "cell_type": "code",
   "execution_count": null,
   "metadata": {
    "ExecuteTime": {
     "end_time": "2020-10-02T23:46:43.028627Z",
     "start_time": "2020-10-02T23:46:42.987700Z"
    }
   },
   "outputs": [],
   "source": [
    "import numpy as np\n",
    "import math\n",
    "import random\n",
    "import torch\n",
    "from sklearn.utils import shuffle\n",
    "import pandas as pd\n",
    "from scipy.io import loadmat, savemat\n",
    "import os\n",
    "from sklearn import preprocessing\n",
    "\n",
    "\n",
    "for k in range(5):\n",
    "    \n",
    "    \n",
    "    data = pd.read_csv(\"./breast-cancer-wisconsin.data\", header = None).values.astype(np.float)\n",
    "    data = shuffle(data)# , random_state = 0\n",
    "    data[:, :-1] = preprocessing.scale(data[:, :-1])\n",
    "    data[:, -1][data[:, -1] == 2] = 1\n",
    "    data[:, -1][data[:, -1] == 4] = 0\n",
    "    \n",
    "    end_train = int(data.shape[0] * 0.4)\n",
    "    end_meta = int(data.shape[0] * 0.5)\n",
    "    end_test = data.shape[0]\n",
    "    \n",
    "    n = data.shape[0]\n",
    "    data_train = data[0 : end_train]\n",
    "    data_meta = data[end_train: end_meta]\n",
    "    data_test = data[end_meta : n]\n",
    "    print(data_train.shape, data_meta.shape, data_test.shape)\n",
    "    assert data_train.shape == (end_train, 11)\n",
    "    assert data_meta.shape == (end_meta - end_train, 11)\n",
    "    assert data_test.shape == (end_test - end_meta, 11)\n",
    "\n",
    "    X_train = data_train[:, :-1]\n",
    "    assert X_train.shape == (end_train, 10)\n",
    "    y_train = data_train[:, -1]\n",
    "\n",
    "    n_corrupted = int(X_train.shape[0] * 0.2)\n",
    "    y_train[:n_corrupted] = - (y_train[:n_corrupted] - 1)\n",
    "\n",
    "    X_meta = data_meta[:, :-1]\n",
    "    assert X_meta.shape == (end_meta - end_train, 10)\n",
    "    y_meta = data_meta[:, -1]\n",
    "    X_meta = torch.tensor(X_meta, dtype = torch.float32)\n",
    "    y_meta = torch.tensor(y_meta, dtype = torch.float32)\n",
    "    \n",
    "    ind_meta_pos = y_meta == 1\n",
    "    ind_meta_neg = y_meta == 0\n",
    "    y_tp_pos = y_meta[ind_meta_pos]\n",
    "    y_tp_neg = y_meta[ind_meta_neg]\n",
    "    X_tp_pos = X_meta[ind_meta_pos, :]\n",
    "    X_tp_neg = X_meta[ind_meta_neg, :]\n",
    "    t = int(min(y_tp_pos.shape[0], y_tp_neg.shape[0]))\n",
    "    X_meta = torch.cat((X_tp_pos[:t, :], X_tp_neg[:t, :]), dim=0)\n",
    "    y_meta = torch.cat((y_tp_pos[:t], y_tp_neg[:t]))\n",
    "    assert X_meta.shape == (2 * t, X_train.shape[1])\n",
    "\n",
    "    X_test = data_test[:, :-1]\n",
    "    assert X_test.shape == (end_test - end_meta, 10)\n",
    "    y_test = data_test[:, -1]\n",
    "\n",
    "    print('Data {} shuffle completed!'.format(k+1))\n",
    "\n",
    "    save_name = 'cancer_20%_{}.mat'.format(k+1)\n",
    "\n",
    "    data_dict = {'X_train': np.array(X_train), 'y_train': np.array(y_train), 'X_meta': np.array(X_meta), \n",
    "             'y_meta': np.array(y_meta), 'X_test': np.array(X_test), 'y_test': np.array(y_test)}\n",
    "    savemat(save_name, data_dict)\n",
    "    print('Data saved~')"
   ]
  },
  {
   "cell_type": "code",
   "execution_count": null,
   "metadata": {},
   "outputs": [],
   "source": []
  }
 ],
 "metadata": {
  "kernelspec": {
   "display_name": "Python 3",
   "language": "python",
   "name": "python3"
  },
  "language_info": {
   "codemirror_mode": {
    "name": "ipython",
    "version": 3
   },
   "file_extension": ".py",
   "mimetype": "text/x-python",
   "name": "python",
   "nbconvert_exporter": "python",
   "pygments_lexer": "ipython3",
   "version": "3.6.10"
  },
  "toc": {
   "base_numbering": 1,
   "nav_menu": {},
   "number_sections": true,
   "sideBar": true,
   "skip_h1_title": false,
   "title_cell": "Table of Contents",
   "title_sidebar": "Contents",
   "toc_cell": false,
   "toc_position": {},
   "toc_section_display": true,
   "toc_window_display": true
  },
  "varInspector": {
   "cols": {
    "lenName": 16,
    "lenType": 16,
    "lenVar": 40
   },
   "kernels_config": {
    "python": {
     "delete_cmd_postfix": "",
     "delete_cmd_prefix": "del ",
     "library": "var_list.py",
     "varRefreshCmd": "print(var_dic_list())"
    },
    "r": {
     "delete_cmd_postfix": ") ",
     "delete_cmd_prefix": "rm(",
     "library": "var_list.r",
     "varRefreshCmd": "cat(var_dic_list()) "
    }
   },
   "position": {
    "height": "847.969px",
    "left": "1610.31px",
    "right": "20px",
    "top": "110.948px",
    "width": "350px"
   },
   "types_to_exclude": [
    "module",
    "function",
    "builtin_function_or_method",
    "instance",
    "_Feature"
   ],
   "window_display": false
  }
 },
 "nbformat": 4,
 "nbformat_minor": 4
}
