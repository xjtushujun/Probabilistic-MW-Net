{
 "cells": [
  {
   "cell_type": "markdown",
   "metadata": {},
   "source": [
    "# Base Info"
   ]
  },
  {
   "cell_type": "code",
   "execution_count": null,
   "metadata": {
    "ExecuteTime": {
     "end_time": "2020-10-16T07:24:51.656997Z",
     "start_time": "2020-10-16T07:24:47.661358Z"
    }
   },
   "outputs": [],
   "source": [
    "import numpy as np\n",
    "import math\n",
    "import random\n",
    "import torch\n",
    "from sklearn.utils import shuffle\n",
    "import pandas as pd\n",
    "from scipy.io import loadmat, savemat\n",
    "import os\n",
    "from sklearn import preprocessing\n",
    "\n",
    "data = loadmat('./waveform.mat')\n",
    "X = torch.tensor(data['X_train'], dtype=torch.float32)\n",
    "y = torch.tensor(np.squeeze(data['y_train']), dtype=torch.float32)\n",
    "X, y = shuffle(X, y)"
   ]
  },
  {
   "cell_type": "code",
   "execution_count": null,
   "metadata": {
    "ExecuteTime": {
     "end_time": "2020-10-16T07:24:53.186499Z",
     "start_time": "2020-10-16T07:24:53.176555Z"
    }
   },
   "outputs": [],
   "source": [
    "X.shape"
   ]
  },
  {
   "cell_type": "markdown",
   "metadata": {},
   "source": [
    "# 0% Noise"
   ]
  },
  {
   "cell_type": "code",
   "execution_count": null,
   "metadata": {
    "ExecuteTime": {
     "end_time": "2020-09-26T07:28:24.826687Z",
     "start_time": "2020-09-26T07:28:24.743940Z"
    },
    "scrolled": false
   },
   "outputs": [],
   "source": [
    "import numpy as np\n",
    "import math\n",
    "import random\n",
    "import torch\n",
    "from sklearn.utils import shuffle\n",
    "import pandas as pd\n",
    "from scipy.io import loadmat, savemat\n",
    "import os\n",
    "from sklearn import preprocessing\n",
    "\n",
    "for k in range(5):\n",
    "    \n",
    "    data = loadmat('./waveform.mat')\n",
    "    X = torch.tensor(data['X_train'], dtype=torch.float32)\n",
    "    y = torch.tensor(np.squeeze(data['y_train']), dtype=torch.float32)\n",
    "    X, y = shuffle(X, y)\n",
    "    X_test = torch.tensor(data['X_test'], dtype=torch.float32)\n",
    "    y_test = torch.tensor(np.squeeze(data['y_test']), dtype=torch.float32)\n",
    "\n",
    "    l = 1000\n",
    "\n",
    "    end_train = int(X.shape[0] * 0.8)\n",
    "\n",
    "    X_train = X[:end_train, :]\n",
    "    y_train = y[:end_train]\n",
    "\n",
    "    \n",
    "    n_corrupted = 0\n",
    "    y_train[:n_corrupted] = - (y_train[:n_corrupted] - 1)\n",
    "\n",
    "    \n",
    "    X_tp = X[end_train:, :]\n",
    "    y_tp = y[end_train:]\n",
    "    ind_meta_pos = y_tp == 1\n",
    "    ind_meta_neg = y_tp == 0\n",
    "    y_tp_pos = y_tp[ind_meta_pos]\n",
    "    y_tp_neg = y_tp[ind_meta_neg]\n",
    "    X_tp_pos = X_tp[ind_meta_pos, :]\n",
    "    X_tp_neg = X_tp[ind_meta_neg, :]\n",
    "    X_meta = torch.cat((X_tp_pos[:20, :], X_tp_neg[:20, :]), dim=0)\n",
    "    y_meta = torch.cat((y_tp_pos[:20], y_tp_neg[:20]))\n",
    "\n",
    "    Y_train = y_train.repeat(l, 1).t()\n",
    "    Y_meta = y_meta.repeat(l, 1).t()\n",
    "    Y_test = y_test.repeat(l, 1).t()\n",
    "\n",
    "    print('Data {} shuffle completed!'.format(k+1))\n",
    "\n",
    "    save_name = 'waveform_{}.mat'.format(k+1)\n",
    "\n",
    "    data_dict = {'X_train': np.array(X_train), 'y_train': np.array(y_train), 'X_meta': np.array(X_meta), \n",
    "             'y_meta': np.array(y_meta), 'X_test': np.array(X_test), 'y_test': np.array(y_test)}\n",
    "    savemat(save_name, data_dict)\n",
    "    print('Data saved~')"
   ]
  },
  {
   "cell_type": "markdown",
   "metadata": {},
   "source": [
    "# 10% Noise"
   ]
  },
  {
   "cell_type": "code",
   "execution_count": null,
   "metadata": {
    "ExecuteTime": {
     "end_time": "2020-09-26T07:28:26.161236Z",
     "start_time": "2020-09-26T07:28:26.086875Z"
    }
   },
   "outputs": [],
   "source": [
    "import numpy as np\n",
    "import math\n",
    "import random\n",
    "import torch\n",
    "from sklearn.utils import shuffle\n",
    "import pandas as pd\n",
    "from scipy.io import loadmat, savemat\n",
    "import os\n",
    "from sklearn import preprocessing\n",
    "\n",
    "for k in range(5):\n",
    "    \n",
    "    data = loadmat('./waveform.mat')\n",
    "    X = torch.tensor(data['X_train'], dtype=torch.float32)\n",
    "    y = torch.tensor(np.squeeze(data['y_train']), dtype=torch.float32)\n",
    "    X, y = shuffle(X, y)\n",
    "    X_test = torch.tensor(data['X_test'], dtype=torch.float32)\n",
    "    y_test = torch.tensor(np.squeeze(data['y_test']), dtype=torch.float32)\n",
    "\n",
    "    l = 1000\n",
    "\n",
    "    end_train = int(X.shape[0] * 0.8)\n",
    "\n",
    "    \n",
    "    X_train = X[:end_train, :]\n",
    "    y_train = y[:end_train]\n",
    "\n",
    "    \n",
    "    n_corrupted = int(X_train.shape[0] * 0.1)\n",
    "    y_train[:n_corrupted] = - (y_train[:n_corrupted] - 1)\n",
    "\n",
    "    \n",
    "    X_tp = X[end_train:, :]\n",
    "    y_tp = y[end_train:]\n",
    "    ind_meta_pos = y_tp == 1\n",
    "    ind_meta_neg = y_tp == 0\n",
    "    y_tp_pos = y_tp[ind_meta_pos]\n",
    "    y_tp_neg = y_tp[ind_meta_neg]\n",
    "    X_tp_pos = X_tp[ind_meta_pos, :]\n",
    "    X_tp_neg = X_tp[ind_meta_neg, :]\n",
    "    X_meta = torch.cat((X_tp_pos[:20, :], X_tp_neg[:20, :]), dim=0)\n",
    "    y_meta = torch.cat((y_tp_pos[:20], y_tp_neg[:20]))\n",
    "\n",
    "    Y_train = y_train.repeat(l, 1).t()\n",
    "    Y_meta = y_meta.repeat(l, 1).t()\n",
    "    Y_test = y_test.repeat(l, 1).t()\n",
    "\n",
    "    print('Data {} shuffle completed!'.format(k+1))\n",
    "\n",
    "    save_name = 'waveform_10%_{}.mat'.format(k+1)\n",
    "\n",
    "    data_dict = {'X_train': np.array(X_train), 'y_train': np.array(y_train), 'X_meta': np.array(X_meta), \n",
    "             'y_meta': np.array(y_meta), 'X_test': np.array(X_test), 'y_test': np.array(y_test)}\n",
    "    savemat(save_name, data_dict)\n",
    "    print('Data saved~')"
   ]
  },
  {
   "cell_type": "markdown",
   "metadata": {},
   "source": [
    "# 20% Noise"
   ]
  },
  {
   "cell_type": "code",
   "execution_count": null,
   "metadata": {
    "ExecuteTime": {
     "end_time": "2020-09-26T07:28:49.172272Z",
     "start_time": "2020-09-26T07:28:49.092162Z"
    }
   },
   "outputs": [],
   "source": [
    "import numpy as np\n",
    "import math\n",
    "import random\n",
    "import torch\n",
    "from sklearn.utils import shuffle\n",
    "import pandas as pd\n",
    "from scipy.io import loadmat, savemat\n",
    "import os\n",
    "from sklearn import preprocessing\n",
    "\n",
    "\n",
    "for k in range(5):\n",
    "    \n",
    "    data = loadmat('./waveform.mat')\n",
    "    X = torch.tensor(data['X_train'], dtype=torch.float32)\n",
    "    y = torch.tensor(np.squeeze(data['y_train']), dtype=torch.float32)\n",
    "    X, y = shuffle(X, y)\n",
    "    X_test = torch.tensor(data['X_test'], dtype=torch.float32)\n",
    "    y_test = torch.tensor(np.squeeze(data['y_test']), dtype=torch.float32)\n",
    "\n",
    "    l = 1000\n",
    "\n",
    "    end_train = int(X.shape[0] * 0.8)\n",
    "\n",
    "    X_train = X[:end_train, :]\n",
    "    y_train = y[:end_train]\n",
    "\n",
    "    \n",
    "    n_corrupted = int(X_train.shape[0] * 0.2)\n",
    "    y_train[:n_corrupted] = - (y_train[:n_corrupted] - 1)\n",
    "\n",
    "    \n",
    "    X_tp = X[end_train:, :]\n",
    "    y_tp = y[end_train:]\n",
    "    ind_meta_pos = y_tp == 1\n",
    "    ind_meta_neg = y_tp == 0\n",
    "    y_tp_pos = y_tp[ind_meta_pos]\n",
    "    y_tp_neg = y_tp[ind_meta_neg]\n",
    "    X_tp_pos = X_tp[ind_meta_pos, :]\n",
    "    X_tp_neg = X_tp[ind_meta_neg, :]\n",
    "    X_meta = torch.cat((X_tp_pos[:20, :], X_tp_neg[:20, :]), dim=0)\n",
    "    y_meta = torch.cat((y_tp_pos[:20], y_tp_neg[:20]))\n",
    "\n",
    "    Y_train = y_train.repeat(l, 1).t()\n",
    "    Y_meta = y_meta.repeat(l, 1).t()\n",
    "    Y_test = y_test.repeat(l, 1).t()\n",
    "\n",
    "    print('Data {} shuffle completed!'.format(k+1))\n",
    "\n",
    "    save_name = 'waveform_20%_{}.mat'.format(k+1)\n",
    "\n",
    "    data_dict = {'X_train': np.array(X_train), 'y_train': np.array(y_train), 'X_meta': np.array(X_meta), \n",
    "             'y_meta': np.array(y_meta), 'X_test': np.array(X_test), 'y_test': np.array(y_test)}\n",
    "    savemat(save_name, data_dict)\n",
    "    print('Data saved~')"
   ]
  }
 ],
 "metadata": {
  "kernelspec": {
   "display_name": "Python 3",
   "language": "python",
   "name": "python3"
  },
  "language_info": {
   "codemirror_mode": {
    "name": "ipython",
    "version": 3
   },
   "file_extension": ".py",
   "mimetype": "text/x-python",
   "name": "python",
   "nbconvert_exporter": "python",
   "pygments_lexer": "ipython3",
   "version": "3.6.10"
  },
  "toc": {
   "base_numbering": 1,
   "nav_menu": {},
   "number_sections": true,
   "sideBar": true,
   "skip_h1_title": false,
   "title_cell": "Table of Contents",
   "title_sidebar": "Contents",
   "toc_cell": false,
   "toc_position": {},
   "toc_section_display": true,
   "toc_window_display": true
  },
  "varInspector": {
   "cols": {
    "lenName": 16,
    "lenType": 16,
    "lenVar": 40
   },
   "kernels_config": {
    "python": {
     "delete_cmd_postfix": "",
     "delete_cmd_prefix": "del ",
     "library": "var_list.py",
     "varRefreshCmd": "print(var_dic_list())"
    },
    "r": {
     "delete_cmd_postfix": ") ",
     "delete_cmd_prefix": "rm(",
     "library": "var_list.r",
     "varRefreshCmd": "cat(var_dic_list()) "
    }
   },
   "position": {
    "height": "847.969px",
    "left": "1610.31px",
    "right": "20px",
    "top": "110.948px",
    "width": "350px"
   },
   "types_to_exclude": [
    "module",
    "function",
    "builtin_function_or_method",
    "instance",
    "_Feature"
   ],
   "window_display": false
  }
 },
 "nbformat": 4,
 "nbformat_minor": 4
}
